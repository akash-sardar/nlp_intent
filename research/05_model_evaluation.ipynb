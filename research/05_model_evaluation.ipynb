{
 "cells": [
  {
   "cell_type": "code",
   "execution_count": 1,
   "metadata": {},
   "outputs": [
    {
     "data": {
      "text/plain": [
       "'d:\\\\PracticeProjects\\\\NLP_Insurance_intent_Detection\\\\nlp_intent'"
      ]
     },
     "execution_count": 1,
     "metadata": {},
     "output_type": "execute_result"
    }
   ],
   "source": [
    "import os\n",
    "os.chdir(\"../\")\n",
    "%pwd"
   ]
  },
  {
   "cell_type": "code",
   "execution_count": 2,
   "metadata": {},
   "outputs": [],
   "source": [
    "# Entity\n",
    "\n",
    "from dataclasses import dataclass\n",
    "from pathlib import Path\n",
    "\n",
    "@dataclass(frozen = True)\n",
    "class ModelEvaluationConfig:\n",
    "    root_dir : Path\n",
    "    transformed_data_path : Path\n",
    "    data_path : Path\n",
    "    model_path : Path\n",
    "    tokenizer_path : Path\n",
    "    metric_file_name : Path"
   ]
  },
  {
   "cell_type": "code",
   "execution_count": 3,
   "metadata": {},
   "outputs": [],
   "source": [
    "# Configuration Manager\n",
    "\n",
    "from intent.constants import *\n",
    "from intent.utils.common import read_yaml, create_directories\n",
    "\n",
    "class ConfigurationManager:\n",
    "    def __init__(self, config_filepath = CONFIG_FILE_PATH, params_filepath = PARAMS_FILE_PATH):\n",
    "        #print(CONFIG_FILE_PATH)\n",
    "        self.config = read_yaml(config_filepath)\n",
    "        self.params = read_yaml(params_filepath) \n",
    "        create_directories([self.config.artifacts_root])\n",
    "    \n",
    "    def get_model_evaluation_config(self) -> ModelEvaluationConfig:\n",
    "        config = self.config.model_evaluation\n",
    "        params = self.params.TrainingArguments\n",
    "        create_directories([config.root_dir])\n",
    "        model_evaluation_config = ModelEvaluationConfig(\n",
    "            root_dir = config.root_dir,\n",
    "            transformed_data_path = config.transformed_data_path,\n",
    "            data_path = config.data_path,\n",
    "            model_path = config.model_path,\n",
    "            tokenizer_path = config.tokenizer_path,\n",
    "            metric_file_name = config.metric_file_name\n",
    "        )\n",
    "        return model_evaluation_config    "
   ]
  },
  {
   "cell_type": "code",
   "execution_count": 4,
   "metadata": {},
   "outputs": [
    {
     "name": "stderr",
     "output_type": "stream",
     "text": [
      "d:\\Softwares\\Anaconda3\\envs\\nlp_intent_venv\\Lib\\site-packages\\tqdm\\auto.py:21: TqdmWarning: IProgress not found. Please update jupyter and ipywidgets. See https://ipywidgets.readthedocs.io/en/stable/user_install.html\n",
      "  from .autonotebook import tqdm as notebook_tqdm\n"
     ]
    },
    {
     "name": "stdout",
     "output_type": "stream",
     "text": [
      "[2024-05-20 22:54:42,189: INFO: config: PyTorch version 2.3.0+cu118 available.]\n"
     ]
    }
   ],
   "source": [
    "# Component\n",
    "\n",
    "import os\n",
    "import pandas as pd\n",
    "from intent.logging import logger\n",
    "from transformers import AutoTokenizer, AutoModelForSequenceClassification\n",
    "from transformers import Trainer\n",
    "from datasets import load_from_disk, load_dataset\n",
    "from sklearn.metrics import f1_score, accuracy_score\n",
    "import torch\n",
    "\n",
    "class ModelEvaluation:\n",
    "    def __init__(self, config:ModelEvaluationConfig):\n",
    "        self.config = config\n",
    "    \n",
    "    def evaluate(self):\n",
    "        device = \"cuda\" if torch.cuda.is_available() else \"cpu\"\n",
    "        test_dataset_encoded = load_from_disk(os.path.join(self.config.transformed_data_path, \"test_dataset_encoded\"))\n",
    "        test_dataset = pd.read_csv(os.path.join(self.config.data_path, \"test.csv\"))\n",
    "        banking77_label = load_dataset(\"json\", data_files = os.path.join(self.config.data_path, \"categories.json\"))\n",
    "        banking77_label_dict  = {}\n",
    "        for key, value in enumerate(banking77_label[\"train\"][\"text\"]):\n",
    "            banking77_label_dict[value] = key\n",
    "        def category2label(x):\n",
    "            return banking77_label_dict[x]\n",
    "        test_dataset[\"category_name\"] = test_dataset[\"category\"].apply(category2label)\n",
    "\n",
    "        model = AutoModelForSequenceClassification.from_pretrained(self.config.model_path).to(device)\n",
    "        trainer = Trainer(model = model)\n",
    "        tokenizer = AutoTokenizer.from_pretrained(self.config.tokenizer_path)\n",
    "        preds_output = trainer.predict(test_dataset_encoded)\n",
    "        y_preds = preds_output.predictions.argmax(-1)  \n",
    "        y_test = test_dataset[\"category_name\"]   \n",
    "        test_results = pd.DataFrame()\n",
    "        test_results[\"text\"] = pd.Series(test_dataset[\"text\"])\n",
    "        test_results[\"category_name\"] = pd.Series(test_dataset[\"category_name\"])\n",
    "        test_results[\"predicted_category\"] = y_preds\n",
    "        test_results.to_csv(os.path.join(self.config.root_dir, \"eval_results.csv\"), index = False)\n",
    "        score_df = pd.DataFrame(self.evaluate_metrics(y_preds, y_test), index=[0])\n",
    "        score_df.to_csv(self.config.metric_file_name)      \n",
    "\n",
    "\n",
    "    def evaluate_metrics(self, y_preds, y_test):\n",
    "        labels = y_test\n",
    "        preds = y_preds\n",
    "        f1 = f1_score(labels, preds, average= \"weighted\")\n",
    "        acc = accuracy_score(labels, preds)\n",
    "        return {\"f1\" : f1, \"accuracy\" : acc}"
   ]
  },
  {
   "cell_type": "code",
   "execution_count": 5,
   "metadata": {},
   "outputs": [
    {
     "name": "stdout",
     "output_type": "stream",
     "text": [
      "[2024-05-20 22:54:42,412: INFO: common: YAML file: D:\\PracticeProjects\\NLP_Insurance_intent_Detection\\nlp_intent\\config\\config.yaml loaded successfully]\n",
      "[2024-05-20 22:54:42,414: INFO: common: YAML file: D:\\PracticeProjects\\NLP_Insurance_intent_Detection\\nlp_intent\\params.yaml loaded successfully]\n",
      "[2024-05-20 22:54:42,416: INFO: common: created directory at: artifacts]\n",
      "[2024-05-20 22:54:42,416: INFO: common: created directory at: artifacts/model_evaluation]\n"
     ]
    },
    {
     "name": "stderr",
     "output_type": "stream",
     "text": [
      "100%|██████████| 385/385 [00:06<00:00, 55.80it/s]\n"
     ]
    }
   ],
   "source": [
    "# Pipeline component\n",
    "try:\n",
    "    config = ConfigurationManager()\n",
    "    model_evaluation_config = config.get_model_evaluation_config()\n",
    "    model_evaluation = ModelEvaluation(config = model_evaluation_config) \n",
    "    model_evaluation.evaluate()\n",
    "except Exception as e:\n",
    "    raise e"
   ]
  },
  {
   "cell_type": "code",
   "execution_count": null,
   "metadata": {},
   "outputs": [],
   "source": []
  }
 ],
 "metadata": {
  "kernelspec": {
   "display_name": "Python 3",
   "language": "python",
   "name": "python3"
  },
  "language_info": {
   "codemirror_mode": {
    "name": "ipython",
    "version": 3
   },
   "file_extension": ".py",
   "mimetype": "text/x-python",
   "name": "python",
   "nbconvert_exporter": "python",
   "pygments_lexer": "ipython3",
   "version": "3.11.9"
  }
 },
 "nbformat": 4,
 "nbformat_minor": 2
}
