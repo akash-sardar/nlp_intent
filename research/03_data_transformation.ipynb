{
 "cells": [
  {
   "cell_type": "code",
   "execution_count": 1,
   "metadata": {},
   "outputs": [
    {
     "data": {
      "text/plain": [
       "'d:\\\\PracticeProjects\\\\NLP_Insurance_intent_Detection\\\\nlp_intent'"
      ]
     },
     "execution_count": 1,
     "metadata": {},
     "output_type": "execute_result"
    }
   ],
   "source": [
    "import os\n",
    "os.chdir(\"../\")\n",
    "%pwd"
   ]
  },
  {
   "cell_type": "code",
   "execution_count": 2,
   "metadata": {},
   "outputs": [],
   "source": [
    "# Entity\n",
    "\n",
    "from dataclasses import dataclass\n",
    "from pathlib import Path\n",
    "\n",
    "@dataclass(frozen = True)\n",
    "class DataTransformationConfig:\n",
    "    root_dir: Path\n",
    "    data_path: Path\n",
    "    tokenizer_name: Path"
   ]
  },
  {
   "cell_type": "code",
   "execution_count": 3,
   "metadata": {},
   "outputs": [],
   "source": [
    "# Configuration Manager\n",
    "from intent.constants import *\n",
    "from intent.utils.common import read_yaml, create_directories\n",
    "\n",
    "class ConfigurationManager:\n",
    "    def __init__(self, config_filepath = CONFIG_FILE_PATH, params_filepath = PARAMS_FILE_PATH):\n",
    "        #print(CONFIG_FILE_PATH)\n",
    "        self.config = read_yaml(config_filepath)\n",
    "        self.params = read_yaml(params_filepath) \n",
    "        create_directories([self.config.artifacts_root])\n",
    "\n",
    "    \n",
    "    def get_data_transformation_config(self) -> DataTransformationConfig:\n",
    "        config = self.config.data_transformation\n",
    "        create_directories([config.root_dir])\n",
    "        data_transformation_config = DataTransformationConfig(\n",
    "            root_dir = config.root_dir,\n",
    "            data_path = config.data_path,\n",
    "            tokenizer_name = config.tokenizer_name\n",
    "        )\n",
    "        return data_transformation_config"
   ]
  },
  {
   "cell_type": "code",
   "execution_count": 4,
   "metadata": {},
   "outputs": [],
   "source": [
    "# Components\n",
    "import os\n",
    "from intent.logging import logging\n",
    "from transformers import AutoTokenizer\n",
    "from datasets import load_dataset, Dataset\n",
    "\n",
    "class DataTransformation:\n",
    "    def __init__(self, config:DataTransformationConfig):\n",
    "        self.config = config\n",
    "        self.tokenizer = AutoTokenizer.from_pretrained(config.tokenizer_name)\n",
    "\n",
    "    def transform_data(self):\n",
    "        banking77 = load_dataset(\"csv\", data_files = { \"train\" : os.path.join(self.config.data_path, \"train.csv\"), \n",
    "                                                        \"test\" : os.path.join(self.config.data_path, \"test.csv\")})\n",
    "        banking77_categories = load_dataset(\"json\", data_files = os.path.join(self.config.data_path, \"categories.json\"))\n",
    "        banking77_categories_dict  = {}\n",
    "        for key, value in enumerate(banking77_categories[\"train\"][\"text\"]):\n",
    "                banking77_categories_dict[value] = key\n",
    "        train_df = banking77[\"train\"].to_pandas()\n",
    "        test_df = banking77[\"test\"].to_pandas()\n",
    "        # changing the labels to label_ids\n",
    "        def category2label(x):\n",
    "            return banking77_categories_dict[x]\n",
    "\n",
    "        train_df[\"category_name\"] = train_df[\"category\"].apply(category2label)\n",
    "        test_df[\"category_name\"] = test_df[\"category\"].apply(category2label)\n",
    "        train_dataset = Dataset.from_pandas(train_df[[\"text\", \"category_name\"]])\n",
    "        test_dataset = Dataset.from_pandas(test_df[[\"text\", \"category_name\"]])\n",
    "        def tokenize(batch):\n",
    "            return self.tokenizer(batch[\"text\"], padding = True, truncation = True, return_tensors = \"pt\")        \n",
    "        train_dataset_encoded = train_dataset.map(tokenize, batched = True, remove_columns = [\"text\"])\n",
    "        train_dataset_encoded = train_dataset_encoded.rename_column(\"category_name\", \"labels\")\n",
    "        test_dataset_encoded = test_dataset.map(tokenize, batched = True, remove_columns = [\"text\"])\n",
    "        test_dataset_encoded = test_dataset_encoded.rename_column(\"category_name\", \"labels\") \n",
    "\n",
    "        train_dataset_encoded.save_to_disk(os.path.join(self.config.root_dir, \"train_dataset_encoded\"))\n",
    "        test_dataset_encoded.save_to_disk(os.path.join(self.config.root_dir, \"test_dataset_encoded\"))\n"
   ]
  },
  {
   "cell_type": "code",
   "execution_count": 5,
   "metadata": {},
   "outputs": [
    {
     "name": "stdout",
     "output_type": "stream",
     "text": [
      "[2024-05-17 01:15:41,090: INFO: common: YAML file: D:\\PracticeProjects\\NLP_Insurance_intent_Detection\\nlp_intent\\config\\config.yaml loaded successfully]\n",
      "[2024-05-17 01:15:41,094: INFO: common: YAML file: D:\\PracticeProjects\\NLP_Insurance_intent_Detection\\nlp_intent\\params.yaml loaded successfully]\n",
      "[2024-05-17 01:15:41,096: INFO: common: created directory at: artifacts]\n",
      "[2024-05-17 01:15:41,097: INFO: common: created directory at: artifacts/data_transformation]\n"
     ]
    },
    {
     "name": "stderr",
     "output_type": "stream",
     "text": [
      "d:\\Softwares\\Anaconda3\\envs\\nlp_intent_venv\\Lib\\site-packages\\huggingface_hub\\file_download.py:1132: FutureWarning: `resume_download` is deprecated and will be removed in version 1.0.0. Downloads always resume when possible. If you want to force a new download, use `force_download=True`.\n",
      "  warnings.warn(\n",
      "Generating train split: 10003 examples [00:00, 135277.44 examples/s]\n",
      "Generating test split: 3080 examples [00:00, 188916.04 examples/s]\n",
      "Generating train split: 77 examples [00:00, 8262.00 examples/s]\n",
      "Map: 100%|██████████| 10003/10003 [00:00<00:00, 19300.69 examples/s]\n",
      "Map: 100%|██████████| 3080/3080 [00:00<00:00, 24667.57 examples/s]\n",
      "Saving the dataset (1/1 shards): 100%|██████████| 10003/10003 [00:00<00:00, 1572078.20 examples/s]\n",
      "Saving the dataset (1/1 shards): 100%|██████████| 3080/3080 [00:00<00:00, 563312.97 examples/s]\n"
     ]
    }
   ],
   "source": [
    "# Pipeline component\n",
    "try:\n",
    "    config = ConfigurationManager()\n",
    "    data_transformation_config = config.get_data_transformation_config()\n",
    "    data_transformation = DataTransformation(config = data_transformation_config) \n",
    "    data_transformation.transform_data()\n",
    "except Exception as e:\n",
    "    raise e"
   ]
  },
  {
   "cell_type": "code",
   "execution_count": null,
   "metadata": {},
   "outputs": [],
   "source": []
  }
 ],
 "metadata": {
  "kernelspec": {
   "display_name": "nlp_intent_venv",
   "language": "python",
   "name": "python3"
  },
  "language_info": {
   "codemirror_mode": {
    "name": "ipython",
    "version": 3
   },
   "file_extension": ".py",
   "mimetype": "text/x-python",
   "name": "python",
   "nbconvert_exporter": "python",
   "pygments_lexer": "ipython3",
   "version": "3.11.9"
  }
 },
 "nbformat": 4,
 "nbformat_minor": 2
}
